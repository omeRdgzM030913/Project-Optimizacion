{
 "cells": [
  {
   "cell_type": "code",
   "execution_count": 1,
   "metadata": {},
   "outputs": [],
   "source": [
    "import pandas as pd"
   ]
  },
  {
   "cell_type": "markdown",
   "metadata": {},
   "source": [
    "leer el excel y definir profesores,materias,horarios,salones"
   ]
  },
  {
   "cell_type": "code",
   "execution_count": 2,
   "metadata": {},
   "outputs": [
    {
     "data": {
      "text/html": [
       "<div>\n",
       "<style scoped>\n",
       "    .dataframe tbody tr th:only-of-type {\n",
       "        vertical-align: middle;\n",
       "    }\n",
       "\n",
       "    .dataframe tbody tr th {\n",
       "        vertical-align: top;\n",
       "    }\n",
       "\n",
       "    .dataframe thead th {\n",
       "        text-align: right;\n",
       "    }\n",
       "</style>\n",
       "<table border=\"1\" class=\"dataframe\">\n",
       "  <thead>\n",
       "    <tr style=\"text-align: right;\">\n",
       "      <th></th>\n",
       "      <th>Profesores</th>\n",
       "      <th>Materias</th>\n",
       "      <th>Horarios</th>\n",
       "      <th>Salones</th>\n",
       "      <th>Materias que puede dar cada profesor</th>\n",
       "      <th>Disponibilidad de horario de cada profesor</th>\n",
       "      <th>Costos Profesores</th>\n",
       "      <th>Costos Materias</th>\n",
       "      <th>Costos Horarios</th>\n",
       "      <th>Costos Salones</th>\n",
       "      <th>Unnamed: 10</th>\n",
       "      <th>Unnamed: 11</th>\n",
       "      <th>Unnamed: 12</th>\n",
       "    </tr>\n",
       "  </thead>\n",
       "  <tbody>\n",
       "    <tr>\n",
       "      <th>0</th>\n",
       "      <td>A</td>\n",
       "      <td>k</td>\n",
       "      <td>1</td>\n",
       "      <td>a</td>\n",
       "      <td>jsk</td>\n",
       "      <td>123</td>\n",
       "      <td>10</td>\n",
       "      <td>10</td>\n",
       "      <td>20</td>\n",
       "      <td>50</td>\n",
       "      <td>NaN</td>\n",
       "      <td>NaN</td>\n",
       "      <td>NaN</td>\n",
       "    </tr>\n",
       "    <tr>\n",
       "      <th>1</th>\n",
       "      <td>B</td>\n",
       "      <td>j</td>\n",
       "      <td>2</td>\n",
       "      <td>b</td>\n",
       "      <td>om</td>\n",
       "      <td>246</td>\n",
       "      <td>20</td>\n",
       "      <td>5</td>\n",
       "      <td>20</td>\n",
       "      <td>50</td>\n",
       "      <td>NaN</td>\n",
       "      <td>NaN</td>\n",
       "      <td>NaN</td>\n",
       "    </tr>\n",
       "    <tr>\n",
       "      <th>2</th>\n",
       "      <td>C</td>\n",
       "      <td>o</td>\n",
       "      <td>3</td>\n",
       "      <td>c</td>\n",
       "      <td>rns</td>\n",
       "      <td>345</td>\n",
       "      <td>20</td>\n",
       "      <td>5</td>\n",
       "      <td>20</td>\n",
       "      <td>40</td>\n",
       "      <td>NaN</td>\n",
       "      <td>NaN</td>\n",
       "      <td>NaN</td>\n",
       "    </tr>\n",
       "    <tr>\n",
       "      <th>3</th>\n",
       "      <td>D</td>\n",
       "      <td>r</td>\n",
       "      <td>4</td>\n",
       "      <td>d</td>\n",
       "      <td>psq</td>\n",
       "      <td>689</td>\n",
       "      <td>10</td>\n",
       "      <td>5</td>\n",
       "      <td>18</td>\n",
       "      <td>40</td>\n",
       "      <td>NaN</td>\n",
       "      <td>NaN</td>\n",
       "      <td>NaN</td>\n",
       "    </tr>\n",
       "    <tr>\n",
       "      <th>4</th>\n",
       "      <td>E</td>\n",
       "      <td>p</td>\n",
       "      <td>5</td>\n",
       "      <td>e</td>\n",
       "      <td>jon</td>\n",
       "      <td>986</td>\n",
       "      <td>20</td>\n",
       "      <td>10</td>\n",
       "      <td>18</td>\n",
       "      <td>50</td>\n",
       "      <td>NaN</td>\n",
       "      <td>NaN</td>\n",
       "      <td></td>\n",
       "    </tr>\n",
       "    <tr>\n",
       "      <th>5</th>\n",
       "      <td>F</td>\n",
       "      <td>m</td>\n",
       "      <td>6</td>\n",
       "      <td>f</td>\n",
       "      <td>orq</td>\n",
       "      <td>135</td>\n",
       "      <td>10</td>\n",
       "      <td>10</td>\n",
       "      <td>18</td>\n",
       "      <td>50</td>\n",
       "      <td>NaN</td>\n",
       "      <td>NaN</td>\n",
       "      <td>NaN</td>\n",
       "    </tr>\n",
       "    <tr>\n",
       "      <th>6</th>\n",
       "      <td>G</td>\n",
       "      <td>n</td>\n",
       "      <td>7</td>\n",
       "      <td>g</td>\n",
       "      <td>rpk</td>\n",
       "      <td>468</td>\n",
       "      <td>10</td>\n",
       "      <td>5</td>\n",
       "      <td>16</td>\n",
       "      <td>40</td>\n",
       "      <td>NaN</td>\n",
       "      <td>NaN</td>\n",
       "      <td>NaN</td>\n",
       "    </tr>\n",
       "    <tr>\n",
       "      <th>7</th>\n",
       "      <td>H</td>\n",
       "      <td>s</td>\n",
       "      <td>8</td>\n",
       "      <td>h</td>\n",
       "      <td>pjm</td>\n",
       "      <td>136</td>\n",
       "      <td>20</td>\n",
       "      <td>5</td>\n",
       "      <td>16</td>\n",
       "      <td>40</td>\n",
       "      <td>NaN</td>\n",
       "      <td>NaN</td>\n",
       "      <td>NaN</td>\n",
       "    </tr>\n",
       "    <tr>\n",
       "      <th>8</th>\n",
       "      <td>I</td>\n",
       "      <td>q</td>\n",
       "      <td>9</td>\n",
       "      <td>i</td>\n",
       "      <td>jor</td>\n",
       "      <td>367</td>\n",
       "      <td>20</td>\n",
       "      <td>5</td>\n",
       "      <td>16</td>\n",
       "      <td>50</td>\n",
       "      <td>NaN</td>\n",
       "      <td>NaN</td>\n",
       "      <td>NaN</td>\n",
       "    </tr>\n",
       "  </tbody>\n",
       "</table>\n",
       "</div>"
      ],
      "text/plain": [
       "  Profesores Materias  Horarios Salones Materias que puede dar cada profesor  \\\n",
       "0          A        k         1       a                                  jsk   \n",
       "1          B        j         2       b                                   om   \n",
       "2          C        o         3       c                                  rns   \n",
       "3          D        r         4       d                                  psq   \n",
       "4          E        p         5       e                                  jon   \n",
       "5          F        m         6       f                                  orq   \n",
       "6          G        n         7       g                                  rpk   \n",
       "7          H        s         8       h                                  pjm   \n",
       "8          I        q         9       i                                  jor   \n",
       "\n",
       "   Disponibilidad de horario de cada profesor  Costos Profesores  \\\n",
       "0                                         123                 10   \n",
       "1                                         246                 20   \n",
       "2                                         345                 20   \n",
       "3                                         689                 10   \n",
       "4                                         986                 20   \n",
       "5                                         135                 10   \n",
       "6                                         468                 10   \n",
       "7                                         136                 20   \n",
       "8                                         367                 20   \n",
       "\n",
       "   Costos Materias  Costos Horarios  Costos Salones  Unnamed: 10  Unnamed: 11  \\\n",
       "0               10               20              50          NaN          NaN   \n",
       "1                5               20              50          NaN          NaN   \n",
       "2                5               20              40          NaN          NaN   \n",
       "3                5               18              40          NaN          NaN   \n",
       "4               10               18              50          NaN          NaN   \n",
       "5               10               18              50          NaN          NaN   \n",
       "6                5               16              40          NaN          NaN   \n",
       "7                5               16              40          NaN          NaN   \n",
       "8                5               16              50          NaN          NaN   \n",
       "\n",
       "  Unnamed: 12  \n",
       "0         NaN  \n",
       "1         NaN  \n",
       "2         NaN  \n",
       "3         NaN  \n",
       "4              \n",
       "5         NaN  \n",
       "6         NaN  \n",
       "7         NaN  \n",
       "8         NaN  "
      ]
     },
     "execution_count": 2,
     "metadata": {},
     "output_type": "execute_result"
    }
   ],
   "source": [
    "horario_Excel = pd.read_excel('horarioprb.xlsx')\n",
    "horario_Excel"
   ]
  },
  {
   "cell_type": "code",
   "execution_count": 3,
   "metadata": {},
   "outputs": [],
   "source": [
    "profesores = horario_Excel['Profesores'].tolist()\n",
    "materias = horario_Excel['Materias'].tolist()\n",
    "horarios = horario_Excel['Horarios'].tolist()\n",
    "salones = horario_Excel['Salones'].tolist()"
   ]
  },
  {
   "cell_type": "markdown",
   "metadata": {},
   "source": [
    "definir materias posibles por profesor"
   ]
  },
  {
   "cell_type": "code",
   "execution_count": 4,
   "metadata": {},
   "outputs": [
    {
     "data": {
      "text/plain": [
       "{'A': ['j', 's', 'k'],\n",
       " 'B': ['o', 'm'],\n",
       " 'C': ['r', 'n', 's'],\n",
       " 'D': ['p', 's', 'q'],\n",
       " 'E': ['j', 'o', 'n'],\n",
       " 'F': ['o', 'r', 'q'],\n",
       " 'G': ['r', 'p', 'k'],\n",
       " 'H': ['p', 'j', 'm'],\n",
       " 'I': ['j', 'o', 'r']}"
      ]
     },
     "execution_count": 4,
     "metadata": {},
     "output_type": "execute_result"
    }
   ],
   "source": [
    "materias_p = horario_Excel['Materias que puede dar cada profesor'].tolist()\n",
    "\n",
    "Materias_profes = {}\n",
    "#que una las materias como listas ejemplo {'A': ['m1', 'm2', 'm3']}\n",
    "for i in range(len(profesores)):\n",
    "    Materias_profes[profesores[i]] = [j for j in materias_p[i]]\n",
    "\n",
    "Materias_profes"
   ]
  },
  {
   "cell_type": "markdown",
   "metadata": {},
   "source": [
    "ahora definimos Disponibilidad profes horarios"
   ]
  },
  {
   "cell_type": "code",
   "execution_count": 5,
   "metadata": {},
   "outputs": [
    {
     "data": {
      "text/plain": [
       "{'A': [1, 2, 3],\n",
       " 'B': [2, 4, 6],\n",
       " 'C': [3, 4, 5],\n",
       " 'D': [6, 8, 9],\n",
       " 'E': [9, 8, 6],\n",
       " 'F': [1, 3, 5],\n",
       " 'G': [4, 6, 8],\n",
       " 'H': [1, 3, 6],\n",
       " 'I': [3, 6, 7]}"
      ]
     },
     "execution_count": 5,
     "metadata": {},
     "output_type": "execute_result"
    }
   ],
   "source": [
    "dispon_horario = horario_Excel['Disponibilidad de horario de cada profesor'].tolist()\n",
    "\n",
    "Disponibilidad_profes_horarios = {}\n",
    "#que una los horarios queden de la siguiente manera: {'A': [1,2,3]}\n",
    "for i in range(len(profesores)):\n",
    "    Disponibilidad_profes_horarios[profesores[i]] = [j for j in str(dispon_horario[i])]\n",
    "#convertir los horarios a enteros\n",
    "for i in Disponibilidad_profes_horarios:\n",
    "    Disponibilidad_profes_horarios[i] = [int(j) for j in Disponibilidad_profes_horarios[i]]\n",
    "    \n",
    "Disponibilidad_profes_horarios"
   ]
  },
  {
   "cell_type": "markdown",
   "metadata": {},
   "source": [
    "Definimos los costos"
   ]
  },
  {
   "cell_type": "code",
   "execution_count": 6,
   "metadata": {},
   "outputs": [
    {
     "data": {
      "text/plain": [
       "{'A': 10,\n",
       " 'B': 20,\n",
       " 'C': 20,\n",
       " 'D': 10,\n",
       " 'E': 20,\n",
       " 'F': 10,\n",
       " 'G': 10,\n",
       " 'H': 20,\n",
       " 'I': 20}"
      ]
     },
     "execution_count": 6,
     "metadata": {},
     "output_type": "execute_result"
    }
   ],
   "source": [
    "costos_profe = horario_Excel['Costos Profesores'].tolist()\n",
    "costos_profes = {\n",
    "    profesores[i]: costos_profe[i] for i in range(len(profesores))\n",
    "}\n",
    "costos_profes"
   ]
  },
  {
   "cell_type": "code",
   "execution_count": 7,
   "metadata": {},
   "outputs": [
    {
     "data": {
      "text/plain": [
       "{'k': 10, 'j': 5, 'o': 5, 'r': 5, 'p': 10, 'm': 10, 'n': 5, 's': 5, 'q': 5}"
      ]
     },
     "execution_count": 7,
     "metadata": {},
     "output_type": "execute_result"
    }
   ],
   "source": [
    "costos_materia = horario_Excel['Costos Materias'].tolist()\n",
    "costos_materias = {\n",
    "    materias[i]: costos_materia[i] for i in range(len(materias))\n",
    "}\n",
    "costos_materias"
   ]
  },
  {
   "cell_type": "code",
   "execution_count": 8,
   "metadata": {},
   "outputs": [
    {
     "data": {
      "text/plain": [
       "{1: 20, 2: 20, 3: 20, 4: 18, 5: 18, 6: 18, 7: 16, 8: 16, 9: 16}"
      ]
     },
     "execution_count": 8,
     "metadata": {},
     "output_type": "execute_result"
    }
   ],
   "source": [
    "costos_horario = horario_Excel['Costos Horarios'].tolist()\n",
    "costos_horarios = {\n",
    "    horarios[i]: costos_horario[i] for i in range(len(horarios))\n",
    "}\n",
    "costos_horarios"
   ]
  },
  {
   "cell_type": "code",
   "execution_count": 9,
   "metadata": {},
   "outputs": [
    {
     "data": {
      "text/plain": [
       "{'a': 50,\n",
       " 'b': 50,\n",
       " 'c': 40,\n",
       " 'd': 40,\n",
       " 'e': 50,\n",
       " 'f': 50,\n",
       " 'g': 40,\n",
       " 'h': 40,\n",
       " 'i': 50}"
      ]
     },
     "execution_count": 9,
     "metadata": {},
     "output_type": "execute_result"
    }
   ],
   "source": [
    "costos_salon = horario_Excel['Costos Salones'].tolist()\n",
    "costos_salones = {\n",
    "    salones[i]: costos_salon[i] for i in range(len(salones))\n",
    "}\n",
    "costos_salones"
   ]
  },
  {
   "cell_type": "markdown",
   "metadata": {},
   "source": [
    "Preguntar si hay algun profesor no disponible"
   ]
  },
  {
   "cell_type": "code",
   "execution_count": 10,
   "metadata": {},
   "outputs": [],
   "source": [
    "profes_eliminar = input('Ingrese los profesores a eliminar separados por comas: ')\n",
    " \n",
    "if profes_eliminar == '':\n",
    "    profes_eliminar = []\n",
    "else:\n",
    "    profes_eliminar = profes_eliminar.split(',')\n",
    "    profes_eliminar = [profesor.strip() for profesor in profes_eliminar]\n",
    "    #actualizar los diccionarios\n",
    "    for profesor in profes_eliminar:\n",
    "        Materias_profes.pop(profesor)\n",
    "        Disponibilidad_profes_horarios.pop(profesor)\n",
    "        costos_profes.pop(profesor)\n",
    "\n",
    "    print(Materias_profes)\n",
    "    print(Disponibilidad_profes_horarios)\n",
    "    print(costos_profes)\n",
    "    #eliminar d ela lista de profesores\n",
    "    profesores = [profesor for profesor in profesores if profesor not in profes_eliminar]"
   ]
  },
  {
   "cell_type": "markdown",
   "metadata": {},
   "source": [
    "Preguntar si hay horarios no disponibles"
   ]
  },
  {
   "cell_type": "code",
   "execution_count": 11,
   "metadata": {},
   "outputs": [
    {
     "name": "stdout",
     "output_type": "stream",
     "text": [
      "{'A': [1, 2, 3], 'B': [2, 4, 6], 'C': [3, 4, 5], 'D': [6], 'E': [6], 'F': [1, 3, 5], 'G': [4, 6], 'H': [1, 3, 6], 'I': [3, 6, 7]}\n",
      "[1, 2, 3, 4, 5, 6, 7]\n"
     ]
    }
   ],
   "source": [
    "horarios_eliminar = input('Ingrese los horarios a eliminar separados por comas: ')\n",
    "\n",
    "if horarios_eliminar == '':\n",
    "    horarios_eliminar = []\n",
    "else:\n",
    "    horarios_eliminar = horarios_eliminar.split(',')\n",
    "    horarios_eliminar = [horario.strip() for horario in horarios_eliminar]\n",
    "    horarios_eliminar = [int(horario) for horario in horarios_eliminar]\n",
    "    #actualizar los diccionarios\n",
    "    for profesor in Disponibilidad_profes_horarios:\n",
    "        Disponibilidad_profes_horarios[profesor] = [horario for horario in Disponibilidad_profes_horarios[profesor] if horario not in horarios_eliminar]\n",
    "    print(Disponibilidad_profes_horarios)\n",
    "    #eliminar de la lista de horarios\n",
    "    horarios = [horario for horario in horarios if horario not in horarios_eliminar]\n",
    "    print(horarios)"
   ]
  },
  {
   "cell_type": "markdown",
   "metadata": {},
   "source": [
    "DEFINIR EL PROGRAMA DE PL"
   ]
  },
  {
   "cell_type": "code",
   "execution_count": 12,
   "metadata": {},
   "outputs": [],
   "source": [
    "from pulp import *\n",
    "\n",
    "prob = LpProblem(\"Horarios\",LpMinimize)"
   ]
  },
  {
   "cell_type": "markdown",
   "metadata": {},
   "source": [
    "Variables"
   ]
  },
  {
   "cell_type": "code",
   "execution_count": 13,
   "metadata": {},
   "outputs": [],
   "source": [
    "profes_materias_salon_horario = LpVariable.dicts(\"Profes_Materias_Salon_Horario\",(profesores,materias,salones,horarios),0,1,LpBinary)"
   ]
  },
  {
   "cell_type": "markdown",
   "metadata": {},
   "source": [
    "Funcion Objetivo"
   ]
  },
  {
   "cell_type": "code",
   "execution_count": 14,
   "metadata": {},
   "outputs": [],
   "source": [
    "prob += lpSum([profes_materias_salon_horario[p][m][s][h]*costos_profes[p] + profes_materias_salon_horario[p][m][s][h]*costos_materias[m] + profes_materias_salon_horario[p][m][s][h]*costos_horarios[h] + profes_materias_salon_horario[p][m][s][h]*costos_salones[s] for p in profesores for m in materias for h in horarios for s in salones])"
   ]
  },
  {
   "cell_type": "markdown",
   "metadata": {},
   "source": [
    "Restricciones"
   ]
  },
  {
   "cell_type": "code",
   "execution_count": 15,
   "metadata": {},
   "outputs": [],
   "source": [
    "#una materia solo se imparte una vez\n",
    "for p in profesores:\n",
    "    for m in materias:\n",
    "        prob += lpSum([profes_materias_salon_horario[p][m][s][h] for h in horarios for s in salones]) <= 1\n",
    "\n",
    "#un profesor solo puede dar una materia a la vez\n",
    "for p in profesores:\n",
    "    for h in horarios:\n",
    "        for s in salones:\n",
    "            prob += lpSum([profes_materias_salon_horario[p][m][s][h] for m in materias]) <= 1\n",
    "\n",
    "#todas las materias se imparten una sola vez\n",
    "for m in materias:\n",
    "    prob += lpSum([profes_materias_salon_horario[p][m][s][h] for p in profesores for h in horarios for s in salones]) == 1\n",
    "\n",
    "#restriccion de que materias pueden dar los profesores ejemplo profesor A solo puede dar las materias j,s,k\n",
    "for p in profesores:\n",
    "    for m in materias:\n",
    "        if m not in Materias_profes[p]:\n",
    "            prob += lpSum([profes_materias_salon_horario[p][m][s][h] for s in salones for h in horarios]) == 0\n",
    "\n",
    "#restriccion de horarios disponibles para los profesores ejemplo profesor A solo puede dar clases en los horarios 1,2,3\n",
    "for p in profesores:\n",
    "    for h in horarios:\n",
    "        if h not in Disponibilidad_profes_horarios[p]:\n",
    "            prob += lpSum([profes_materias_salon_horario[p][m][s][h] for m in materias for s in salones]) == 0\n",
    "\n",
    "#restriccion no se puede usar un salon en el mismo horario\n",
    "for s in salones:\n",
    "    for h in horarios:\n",
    "        prob += lpSum([profes_materias_salon_horario[p][m][s][h] for p in profesores for m in materias]) <= 1"
   ]
  },
  {
   "cell_type": "markdown",
   "metadata": {},
   "source": [
    "Solucion y visualizacion"
   ]
  },
  {
   "cell_type": "code",
   "execution_count": 16,
   "metadata": {},
   "outputs": [
    {
     "name": "stdout",
     "output_type": "stream",
     "text": [
      "Profes_Materias_Salon_Horario_A_j_h_3 = 1.0\n",
      "Profes_Materias_Salon_Horario_C_n_c_4 = 1.0\n",
      "Profes_Materias_Salon_Horario_D_q_d_6 = 1.0\n",
      "Profes_Materias_Salon_Horario_D_s_h_6 = 1.0\n",
      "Profes_Materias_Salon_Horario_F_o_c_5 = 1.0\n",
      "Profes_Materias_Salon_Horario_G_k_g_4 = 1.0\n",
      "Profes_Materias_Salon_Horario_G_p_c_6 = 1.0\n",
      "Profes_Materias_Salon_Horario_G_r_d_4 = 1.0\n",
      "Profes_Materias_Salon_Horario_H_m_g_6 = 1.0\n"
     ]
    }
   ],
   "source": [
    "prob.solve()\n",
    "#print(\"Status:\", LpStatus[prob.status])\n",
    "\n",
    "\"\"\" for v in prob.variables():\n",
    "    print(v.name, \"=\", v.varValue) \"\"\"\n",
    "#solo imprimir los valores que son 1\n",
    "for v in prob.variables():\n",
    "    if v.varValue == 1:\n",
    "        print(v.name, \"=\", v.varValue)\n"
   ]
  },
  {
   "cell_type": "markdown",
   "metadata": {},
   "source": [
    "Costo total"
   ]
  },
  {
   "cell_type": "code",
   "execution_count": 17,
   "metadata": {},
   "outputs": [
    {
     "name": "stdout",
     "output_type": "stream",
     "text": [
      "Costo total =  694.0\n"
     ]
    }
   ],
   "source": [
    "print(\"Costo total = \", value(prob.objective))"
   ]
  },
  {
   "cell_type": "markdown",
   "metadata": {},
   "source": [
    "CREAR UN DATAFRAME DONDE SE VEA BIEN LA SOLUCION Y VOLVERLO EXCEL\n"
   ]
  },
  {
   "cell_type": "code",
   "execution_count": 18,
   "metadata": {},
   "outputs": [
    {
     "data": {
      "text/html": [
       "<div>\n",
       "<style scoped>\n",
       "    .dataframe tbody tr th:only-of-type {\n",
       "        vertical-align: middle;\n",
       "    }\n",
       "\n",
       "    .dataframe tbody tr th {\n",
       "        vertical-align: top;\n",
       "    }\n",
       "\n",
       "    .dataframe thead th {\n",
       "        text-align: right;\n",
       "    }\n",
       "</style>\n",
       "<table border=\"1\" class=\"dataframe\">\n",
       "  <thead>\n",
       "    <tr style=\"text-align: right;\">\n",
       "      <th></th>\n",
       "      <th>Profesor</th>\n",
       "      <th>Materia</th>\n",
       "      <th>Salon</th>\n",
       "      <th>Horario</th>\n",
       "      <th>Costo Profesor</th>\n",
       "      <th>Costo Materia</th>\n",
       "      <th>Costo Salon</th>\n",
       "      <th>Costo Horario</th>\n",
       "      <th>Costo</th>\n",
       "    </tr>\n",
       "  </thead>\n",
       "  <tbody>\n",
       "    <tr>\n",
       "      <th>0</th>\n",
       "      <td>A</td>\n",
       "      <td>j</td>\n",
       "      <td>h</td>\n",
       "      <td>3</td>\n",
       "      <td>10</td>\n",
       "      <td>5</td>\n",
       "      <td>40</td>\n",
       "      <td>20</td>\n",
       "      <td>75</td>\n",
       "    </tr>\n",
       "    <tr>\n",
       "      <th>1</th>\n",
       "      <td>C</td>\n",
       "      <td>n</td>\n",
       "      <td>c</td>\n",
       "      <td>4</td>\n",
       "      <td>20</td>\n",
       "      <td>5</td>\n",
       "      <td>40</td>\n",
       "      <td>18</td>\n",
       "      <td>83</td>\n",
       "    </tr>\n",
       "    <tr>\n",
       "      <th>2</th>\n",
       "      <td>D</td>\n",
       "      <td>q</td>\n",
       "      <td>d</td>\n",
       "      <td>6</td>\n",
       "      <td>10</td>\n",
       "      <td>5</td>\n",
       "      <td>40</td>\n",
       "      <td>18</td>\n",
       "      <td>73</td>\n",
       "    </tr>\n",
       "    <tr>\n",
       "      <th>3</th>\n",
       "      <td>D</td>\n",
       "      <td>s</td>\n",
       "      <td>h</td>\n",
       "      <td>6</td>\n",
       "      <td>10</td>\n",
       "      <td>5</td>\n",
       "      <td>40</td>\n",
       "      <td>18</td>\n",
       "      <td>73</td>\n",
       "    </tr>\n",
       "    <tr>\n",
       "      <th>4</th>\n",
       "      <td>F</td>\n",
       "      <td>o</td>\n",
       "      <td>c</td>\n",
       "      <td>5</td>\n",
       "      <td>10</td>\n",
       "      <td>5</td>\n",
       "      <td>40</td>\n",
       "      <td>18</td>\n",
       "      <td>73</td>\n",
       "    </tr>\n",
       "    <tr>\n",
       "      <th>5</th>\n",
       "      <td>G</td>\n",
       "      <td>k</td>\n",
       "      <td>g</td>\n",
       "      <td>4</td>\n",
       "      <td>10</td>\n",
       "      <td>10</td>\n",
       "      <td>40</td>\n",
       "      <td>18</td>\n",
       "      <td>78</td>\n",
       "    </tr>\n",
       "    <tr>\n",
       "      <th>6</th>\n",
       "      <td>G</td>\n",
       "      <td>p</td>\n",
       "      <td>c</td>\n",
       "      <td>6</td>\n",
       "      <td>10</td>\n",
       "      <td>10</td>\n",
       "      <td>40</td>\n",
       "      <td>18</td>\n",
       "      <td>78</td>\n",
       "    </tr>\n",
       "    <tr>\n",
       "      <th>7</th>\n",
       "      <td>G</td>\n",
       "      <td>r</td>\n",
       "      <td>d</td>\n",
       "      <td>4</td>\n",
       "      <td>10</td>\n",
       "      <td>5</td>\n",
       "      <td>40</td>\n",
       "      <td>18</td>\n",
       "      <td>73</td>\n",
       "    </tr>\n",
       "    <tr>\n",
       "      <th>8</th>\n",
       "      <td>H</td>\n",
       "      <td>m</td>\n",
       "      <td>g</td>\n",
       "      <td>6</td>\n",
       "      <td>20</td>\n",
       "      <td>10</td>\n",
       "      <td>40</td>\n",
       "      <td>18</td>\n",
       "      <td>88</td>\n",
       "    </tr>\n",
       "  </tbody>\n",
       "</table>\n",
       "</div>"
      ],
      "text/plain": [
       "  Profesor Materia Salon Horario  Costo Profesor  Costo Materia  Costo Salon  \\\n",
       "0        A       j     h       3              10              5           40   \n",
       "1        C       n     c       4              20              5           40   \n",
       "2        D       q     d       6              10              5           40   \n",
       "3        D       s     h       6              10              5           40   \n",
       "4        F       o     c       5              10              5           40   \n",
       "5        G       k     g       4              10             10           40   \n",
       "6        G       p     c       6              10             10           40   \n",
       "7        G       r     d       4              10              5           40   \n",
       "8        H       m     g       6              20             10           40   \n",
       "\n",
       "   Costo Horario  Costo  \n",
       "0             20     75  \n",
       "1             18     83  \n",
       "2             18     73  \n",
       "3             18     73  \n",
       "4             18     73  \n",
       "5             18     78  \n",
       "6             18     78  \n",
       "7             18     73  \n",
       "8             18     88  "
      ]
     },
     "execution_count": 18,
     "metadata": {},
     "output_type": "execute_result"
    }
   ],
   "source": [
    "#crear un data frame con la solucion del problema donde se vea profesor, materia, salon y horario asignado y mostrando el costo total\n",
    "solucion = []\n",
    "for v in prob.variables():\n",
    "    if v.varValue == 1:\n",
    "        #se agregan los ultimos 4 valores de la lista\n",
    "        solucion.append(v.name.split('_')[-4:])\n",
    "#se crea el data frame\n",
    "df = pd.DataFrame(solucion, columns=['Profesor', 'Materia', 'Salon', 'Horario'])\n",
    "#ahora crea las columnas respectivas para costo profesor, costo materia, costo salon, costo horario y una ultima con la suma de cada uno por fila \n",
    "df['Costo Profesor'] = df['Profesor'].map(costos_profes)\n",
    "df['Costo Materia'] = df['Materia'].map(costos_materias)\n",
    "df['Costo Salon'] = df['Salon'].map(costos_salones)\n",
    "\n",
    "#se crea una columna con el costo de cada horario ejemplo si horario es 3 Costo Horario es 20 no uses map\n",
    "df['Costo Horario'] = [costos_horarios[int(i)] for i in df['Horario']]\n",
    "\n",
    "\n",
    "df['Costo'] = df['Costo Profesor'] + df['Costo Materia'] + df['Costo Salon'] + df['Costo Horario']\n",
    "df"
   ]
  },
  {
   "cell_type": "code",
   "execution_count": 19,
   "metadata": {},
   "outputs": [],
   "source": [
    "# crear un archivo excel con df\n",
    "from openpyxl import load_workbook\n",
    "\n",
    "df.to_excel('solucion_horario.xlsx', index=False)\n",
    "wb = load_workbook('solucion_horario.xlsx')\n",
    "ws = wb.active\n",
    "ws['K3'] = 'Costo Total:'\n",
    "ws['L3'] = value(prob.objective)\n",
    "\n",
    "wb.save('solucion_horario.xlsx')\n",
    "wb.close()"
   ]
  },
  {
   "cell_type": "markdown",
   "metadata": {},
   "source": [
    "Abrir el archivo "
   ]
  },
  {
   "cell_type": "code",
   "execution_count": 20,
   "metadata": {},
   "outputs": [
    {
     "data": {
      "text/plain": [
       "0"
      ]
     },
     "execution_count": 20,
     "metadata": {},
     "output_type": "execute_result"
    }
   ],
   "source": [
    "import os\n",
    "\n",
    "#Abrir \"solucion_horario.xlsx\"\n",
    "os.system('start excel solucion_horario.xlsx')\n"
   ]
  }
 ],
 "metadata": {
  "kernelspec": {
   "display_name": "base",
   "language": "python",
   "name": "python3"
  },
  "language_info": {
   "codemirror_mode": {
    "name": "ipython",
    "version": 3
   },
   "file_extension": ".py",
   "mimetype": "text/x-python",
   "name": "python",
   "nbconvert_exporter": "python",
   "pygments_lexer": "ipython3",
   "version": "3.11.4"
  }
 },
 "nbformat": 4,
 "nbformat_minor": 2
}
